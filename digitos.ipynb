{
 "cells": [
  {
   "cell_type": "markdown",
   "id": "6bd52b5f",
   "metadata": {
    "slideshow": {
     "slide_type": "slide"
    },
    "tags": []
   },
   "source": [
    "# <span style=\"color:#5E002B\">Machine learning: una demostración en Python</span>\n",
    "\n",
    "---\n",
    "\n",
    "### Algoritmo de reconocimiento de números manuscritos\n",
    "\n",
    "Rodrigo Leo | Julio 2021"
   ]
  },
  {
   "cell_type": "markdown",
   "id": "dbc2682e",
   "metadata": {
    "slideshow": {
     "slide_type": "slide"
    }
   },
   "source": [
    "### Top Machine Learning Languages on GitHub\n",
    "\n",
    "1. <mark>Python</mark>\n",
    "1. C++\n",
    "1. JavScript\n",
    "1. Java\n",
    "1. C#\n",
    "1. Julia\n",
    "1. Shell\n",
    "1. R\n",
    "1. TypeScript\n",
    "1. Scala\n",
    "\n",
    "Fuente: *[The State of the Octoverse: machine learning](https://github.blog/2019-01-24-the-state-of-the-octoverse-machine-learning/)*, del [blog oficial de GitHub](https://github.blog)."
   ]
  },
  {
   "cell_type": "markdown",
   "id": "b9669d2d",
   "metadata": {
    "slideshow": {
     "slide_type": "slide"
    }
   },
   "source": [
    "### Packages Imported by Machine Learning Projects on GitHub\n",
    "\n",
    "1. <mark>numpy</mark>\n",
    "1. scipy\n",
    "1. pandas\n",
    "1. <mark>matplotlib</mark>\n",
    "1. <mark>scikit-learn</mark>\n",
    "1. six\n",
    "1. tensorflow\n",
    "1. requests\n",
    "1. python-dateutil\n",
    "1. pytz\n",
    "\n",
    "Fuente: *[The State of the Octoverse: machine learning](https://github.blog/2019-01-24-the-state-of-the-octoverse-machine-learning/)*, del [blog oficial de GitHub](https://github.blog)."
   ]
  },
  {
   "cell_type": "markdown",
   "id": "f49a115c",
   "metadata": {
    "slideshow": {
     "slide_type": "slide"
    }
   },
   "source": [
    "### Objetivo\n",
    "\n",
    "* ML trata de resolver dos clases de problemas:\n",
    "    * Problemas de *clasificación*\n",
    "    * Problemas de *regresión*\n",
    "\n",
    "\n",
    "* En este proyecto emplearemos Python y la librería scikit-learn (`sklearn`) para implementar un algoritmo ML capaz de identificar números manuscritos.\n",
    "\n",
    "* Usaremos la base de datos de reconocimiento óptico de caracteres manuscritos publicada en 1998 y conservada por la UC Irvine. Esta es una base de datos \"clásica\" para entrenar algoritmos de aprendizaje automático.\n",
    "\n",
    "https://archive-beta.ics.uci.edu/ml/datasets/80"
   ]
  },
  {
   "cell_type": "markdown",
   "id": "ee932fa9",
   "metadata": {
    "slideshow": {
     "slide_type": "slide"
    }
   },
   "source": [
    "### 1. Importar paquetes y base de datos\n",
    "---"
   ]
  },
  {
   "cell_type": "code",
   "execution_count": 1,
   "id": "7e698c32-f2b9-4318-b225-6a9b4f062b1b",
   "metadata": {
    "slideshow": {
     "slide_type": "-"
    },
    "tags": []
   },
   "outputs": [],
   "source": [
    "# Importar las librerías requeridas: scikit-learn (sklearn), numpy y matplotlib:\n",
    "\n",
    "from sklearn import datasets\n",
    "from sklearn.neighbors import KNeighborsClassifier\n",
    "from sklearn.metrics import accuracy_score\n",
    "import numpy as np\n",
    "import matplotlib.pyplot as plt\n",
    "\n",
    "\n",
    "# Cargar la base de datos de números manuscritos en la variable 'digitos':\n",
    "\n",
    "digitos = datasets.load_digits()"
   ]
  },
  {
   "cell_type": "code",
   "execution_count": 2,
   "id": "596ba4cb-33c4-4c1f-80bb-33d488c63eaf",
   "metadata": {
    "slideshow": {
     "slide_type": "slide"
    }
   },
   "outputs": [
    {
     "data": {
      "text/plain": [
       "(1797, 64)"
      ]
     },
     "execution_count": 2,
     "metadata": {},
     "output_type": "execute_result"
    }
   ],
   "source": [
    "# La propiedad data.shape de la base de datos devuelve su tamaño:\n",
    "\n",
    "digitos.data.shape"
   ]
  },
  {
   "cell_type": "code",
   "execution_count": 3,
   "id": "68b54093",
   "metadata": {
    "slideshow": {
     "slide_type": "fragment"
    }
   },
   "outputs": [
    {
     "data": {
      "image/png": "[encoded data removed]",
      "text/plain": [
       "<Figure size 432x288 with 1 Axes>"
      ]
     },
     "metadata": {
      "needs_background": "light"
     },
     "output_type": "display_data"
    }
   ],
   "source": [
    "# Visualización del primer elemento de la base de datos:\n",
    "\n",
    "plt.imshow(digitos.images[0], cmap = \"gray_r\")\n",
    "plt.show()"
   ]
  },
  {
   "cell_type": "markdown",
   "id": "b9dd860a",
   "metadata": {
    "slideshow": {
     "slide_type": "slide"
    }
   },
   "source": [
    "### 2. Explorar la base de datos\n",
    "---"
   ]
  },
  {
   "cell_type": "code",
   "execution_count": 4,
   "id": "23b33e70",
   "metadata": {
    "slideshow": {
     "slide_type": "-"
    }
   },
   "outputs": [
    {
     "data": {
      "image/png": "[encoded data removed]",
      "text/plain": [
       "<Figure size 432x288 with 30 Axes>"
      ]
     },
     "metadata": {
      "needs_background": "light"
     },
     "output_type": "display_data"
    }
   ],
   "source": [
    "# Mostrar los primeros 30 números de la base de datos:\n",
    "\n",
    "n = 0\n",
    "fig, axs = plt.subplots(3, 10)\n",
    "\n",
    "for (x, y) in [(x, y) for x in range(0, 3) for y in range(0, 10)]:\n",
    "    axs[x, y].imshow(digitos.images[n], cmap = \"gray_r\")\n",
    "    axs[x, y].axis(\"off\")\n",
    "    axs[x, y].set_title(digitos.target[n])\n",
    "    n = n + 1"
   ]
  },
  {
   "cell_type": "code",
   "execution_count": 5,
   "id": "f69b28f0",
   "metadata": {
    "slideshow": {
     "slide_type": "slide"
    }
   },
   "outputs": [],
   "source": [
    "# Definimos una función auxiliar para filtrar y mostrar los primeros 30 elementos de un número dado:\n",
    "\n",
    "def on_value_change(change):\n",
    "    clear_output()\n",
    "    subset = np.where(digitos.target == change['new'])\n",
    "    fig, axs = plt.subplots(3, 10)\n",
    "    n = 0\n",
    "    for (x, y) in [(x, y) for x in range(0, 3) for y in range(0, 10)]:\n",
    "        axs[x, y].imshow(digitos.images[subset][n], cmap = \"gray_r\")\n",
    "        axs[x, y].axis(\"off\"); n = n + 1\n",
    "    display(objetivo)\n",
    "    plt.plot()"
   ]
  },
  {
   "cell_type": "code",
   "execution_count": 6,
   "id": "8095c679",
   "metadata": {
    "slideshow": {
     "slide_type": "slide"
    }
   },
   "outputs": [
    {
     "data": {
      "application/vnd.jupyter.widget-view+json": {
       "model_id": "afd7b0ee64fd4a4c90c341f83d36e9c0",
       "version_major": 2,
       "version_minor": 0
      },
      "text/plain": [
       "IntText(value=0, description='Número:')"
      ]
     },
     "metadata": {},
     "output_type": "display_data"
    }
   ],
   "source": [
    "# Importar la libería de widgets e insertar un wodget que controla el número a mostrar:\n",
    "\n",
    "import ipywidgets as widgets\n",
    "from IPython.display import display, clear_output\n",
    "\n",
    "objetivo = widgets.IntText(value = 0, description='Número:', disabled=False)\n",
    "objetivo.observe(on_value_change, names='value')\n",
    "display(objetivo)"
   ]
  },
  {
   "cell_type": "markdown",
   "id": "488d8f31",
   "metadata": {
    "slideshow": {
     "slide_type": "slide"
    }
   },
   "source": [
    "### 3. Dividir la muestra\n",
    "---\n",
    "\n",
    "La base de datos contiene 1797 observaciones. La dividiremos en dos partes:\n",
    "\n",
    "* Una parte es el *training set*, que se usa para \"entrenar\" el modelo de ML y \"enseñarle\" a reconocer patrones de números manuscritos.\n",
    "* Otra parte es el *evaluation set*, que se usa para verificar si el modelo \"aprendió\" a hacer su trabajo correctamente.\n",
    "\n",
    "Reservaremos las últimas 250 observaciones para probar el modelo (*evaluation set*), mientras que las `1797 - 250 = 1547` observaciones restantes serán empleadas para entrenar el modelo (*training set*)."
   ]
  },
  {
   "cell_type": "code",
   "execution_count": 7,
   "id": "4882158f",
   "metadata": {
    "slideshow": {
     "slide_type": "slide"
    }
   },
   "outputs": [],
   "source": [
    "# El diccionario 'trainig_set' contiene los datos para entrenar los modelos\n",
    "# Consiste en todas las observaciones, excepto las últimas 250\n",
    "\n",
    "training_set = {\n",
    "    'datos'    : digitos.data[:-250],\n",
    "    'etiquetas': digitos.target[:-250],\n",
    "    'imagenes' : digitos.images[:-250]\n",
    "}\n",
    "\n",
    "\n",
    "# El diccionario 'evaluation_set' contiene los datos para evaluar la exactitud de los modelos\n",
    "# Consiste en las últimas 250 observaciones de la base de datos\n",
    "\n",
    "evaluation_set = {\n",
    "    'datos'    : digitos.data[-250:],\n",
    "    'etiquetas': digitos.target[-250:],\n",
    "    'imagenes' : digitos.images[-250:]\n",
    "}"
   ]
  },
  {
   "cell_type": "markdown",
   "id": "91262c93",
   "metadata": {
    "slideshow": {
     "slide_type": "slide"
    }
   },
   "source": [
    "### 4. Construir los modelos de ML\n",
    "---\n",
    "\n",
    "Probaremos cinco modelos de clasificación distintos:\n",
    "\n",
    "1. Árbol de decisión (`DecisionTreeClassifier`).\n",
    "1. Máquina de vectores de soporte (`SVC`, de *Support Vector Classifier*).\n",
    "1. Análisis discriminante lineal (`LinearDiscriminantAnalysis`).\n",
    "1. Descenso por gradiente estocástico (`SGDClassifier`, de *Stochastic Gradient Descent*).\n",
    "1. Red  neuronal (perceptrón) (`MLPClassifier`, de *Multi-layer Perceptron*).\n",
    "\n",
    "Cada modelo será calibrado usando el `training_set` y posteriormente evaluado usando el `evaluation_set`. Para cada modelo se obtendrá el *score*: la proporción de dígitos correctamente identificados."
   ]
  },
  {
   "cell_type": "code",
   "execution_count": 8,
   "id": "392ddbf2",
   "metadata": {},
   "outputs": [],
   "source": [
    "scores = {}"
   ]
  },
  {
   "cell_type": "markdown",
   "id": "58151f1f",
   "metadata": {
    "slideshow": {
     "slide_type": "slide"
    }
   },
   "source": [
    "#### Modelo 1: árbol de decisión\n",
    "---"
   ]
  },
  {
   "cell_type": "code",
   "execution_count": 9,
   "id": "c1fdb13e",
   "metadata": {
    "slideshow": {
     "slide_type": "-"
    }
   },
   "outputs": [
    {
     "name": "stdout",
     "output_type": "stream",
     "text": [
      "73.6\n"
     ]
    }
   ],
   "source": [
    "# Importar clasificador:\n",
    "from sklearn.tree import DecisionTreeClassifier\n",
    "\n",
    "# Construir y ajustar modelo:\n",
    "modelo_dtc = DecisionTreeClassifier(random_state = 0)\n",
    "modelo_dtc.fit(training_set['datos'], training_set['etiquetas'])\n",
    "\n",
    "# Ejecutar modelo sobre el evaluation set y calcular el score:\n",
    "predic_dtc = modelo_dtc.predict(evaluation_set['datos'])\n",
    "score_dtc = accuracy_score(evaluation_set['etiquetas'], predic_dtc) * 100\n",
    "\n",
    "# Guardar score\n",
    "scores[\"dtc\"] = score_dtc\n",
    "print(score_dtc)"
   ]
  },
  {
   "cell_type": "markdown",
   "id": "f061c82d",
   "metadata": {
    "slideshow": {
     "slide_type": "slide"
    }
   },
   "source": [
    "#### Modelo 2: máquina de vectores de soporte\n",
    "---"
   ]
  },
  {
   "cell_type": "code",
   "execution_count": 10,
   "id": "cd5d0d82",
   "metadata": {},
   "outputs": [
    {
     "name": "stdout",
     "output_type": "stream",
     "text": [
      "92.0\n"
     ]
    }
   ],
   "source": [
    "# Importar clasificador:\n",
    "from sklearn.svm import SVC\n",
    "\n",
    "# Construir y ajustar modelo:\n",
    "modelo_svc = SVC(random_state = 0)\n",
    "modelo_svc.fit(training_set['datos'], training_set['etiquetas'])\n",
    "\n",
    "# Ejecutar modelo sobre el evaluation set y calcular el score:\n",
    "predic_svc = modelo_svc.predict(evaluation_set['datos'])\n",
    "score_svc = accuracy_score(evaluation_set['etiquetas'], predic_svc) * 100\n",
    "\n",
    "# Guardar score\n",
    "scores[\"svc\"] = score_svc\n",
    "print(score_svc)"
   ]
  },
  {
   "cell_type": "markdown",
   "id": "7662a6b7",
   "metadata": {
    "slideshow": {
     "slide_type": "slide"
    }
   },
   "source": [
    "#### Modelo 3: análisis discriminante lineal\n",
    "---"
   ]
  },
  {
   "cell_type": "code",
   "execution_count": 11,
   "id": "627e8e9a",
   "metadata": {},
   "outputs": [
    {
     "name": "stdout",
     "output_type": "stream",
     "text": [
      "89.2\n"
     ]
    }
   ],
   "source": [
    "# Importar clasificador:\n",
    "from sklearn.discriminant_analysis import LinearDiscriminantAnalysis\n",
    "\n",
    "# Construir y ajustar modelo:\n",
    "modelo_lda = LinearDiscriminantAnalysis()\n",
    "modelo_lda.fit(training_set['datos'], training_set['etiquetas'])\n",
    "\n",
    "# Ejecutar modelo sobre el evaluation set y calcular el score:\n",
    "predic_lda = modelo_lda.predict(evaluation_set['datos'])\n",
    "score_lda = accuracy_score(evaluation_set['etiquetas'], predic_lda) * 100\n",
    "\n",
    "# Guardar score\n",
    "scores[\"lda\"] = score_lda\n",
    "print(score_lda)"
   ]
  },
  {
   "cell_type": "markdown",
   "id": "a934fc76",
   "metadata": {
    "slideshow": {
     "slide_type": "slide"
    }
   },
   "source": [
    "#### Modelo 4: descenso por gradiente estocástico\n",
    "---"
   ]
  },
  {
   "cell_type": "code",
   "execution_count": 12,
   "id": "24ef1440",
   "metadata": {},
   "outputs": [
    {
     "name": "stdout",
     "output_type": "stream",
     "text": [
      "87.2\n"
     ]
    }
   ],
   "source": [
    "# Importar clasificador:\n",
    "from sklearn.linear_model import SGDClassifier\n",
    "\n",
    "# Construir y ajustar modelo:\n",
    "modelo_sgd = SGDClassifier(random_state = 0)\n",
    "modelo_sgd.fit(training_set['datos'], training_set['etiquetas'])\n",
    "\n",
    "# Ejecutar modelo sobre el evaluation set y calcular el score:\n",
    "predic_sgd = modelo_sgd.predict(evaluation_set['datos'])\n",
    "score_sgd = accuracy_score(evaluation_set['etiquetas'], predic_sgd) * 100\n",
    "\n",
    "# Guardar score\n",
    "scores[\"sgd\"] = score_sgd\n",
    "print(score_sgd)"
   ]
  },
  {
   "cell_type": "markdown",
   "id": "3b03053a",
   "metadata": {
    "slideshow": {
     "slide_type": "slide"
    }
   },
   "source": [
    "#### Modelo 5: red neuronal (perceptrón multicapa)\n",
    "---"
   ]
  },
  {
   "cell_type": "code",
   "execution_count": 13,
   "id": "8e898c78",
   "metadata": {},
   "outputs": [
    {
     "name": "stdout",
     "output_type": "stream",
     "text": [
      "90.4\n"
     ]
    }
   ],
   "source": [
    "# Importar clasificador:\n",
    "from sklearn.neural_network import MLPClassifier\n",
    "\n",
    "# Construir y ajustar modelo:\n",
    "modelo_mlp = MLPClassifier(random_state = 0)\n",
    "modelo_mlp.fit(training_set['datos'], training_set['etiquetas'])\n",
    "\n",
    "# Ejecutar modelo sobre el evaluation set y calcular el score:\n",
    "predic_mlp = modelo_mlp.predict(evaluation_set['datos'])\n",
    "score_mlp = accuracy_score(evaluation_set['etiquetas'], predic_mlp) * 100\n",
    "\n",
    "# Guardar score\n",
    "scores[\"mlp\"] = score_mlp\n",
    "print(score_mlp)"
   ]
  },
  {
   "cell_type": "markdown",
   "id": "b5e6fc1a",
   "metadata": {
    "slideshow": {
     "slide_type": "slide"
    }
   },
   "source": [
    "#### Resumen: *scores* de los modelos ajustados\n",
    "---\n",
    "\n",
    "Los scores de cada modelo están almacenados en el diccionario `scores`. La siguiente rutina los muestra en un solo paso:"
   ]
  },
  {
   "cell_type": "code",
   "execution_count": 14,
   "id": "6d3e89c2",
   "metadata": {
    "scrolled": true,
    "slideshow": {
     "slide_type": "-"
    }
   },
   "outputs": [
    {
     "name": "stdout",
     "output_type": "stream",
     "text": [
      "Modelo\tExactitud\n",
      "-----------------\n",
      "dtc \t 73.6 %\n",
      "svc \t 92.0 %\n",
      "lda \t 89.2 %\n",
      "sgd \t 87.2 %\n",
      "mlp \t 90.4 %\n",
      "(AVG) \t 86.5 %\n"
     ]
    }
   ],
   "source": [
    "# Calcular promedio de los scores:\n",
    "\n",
    "scores[\"(AVG)\"] = sum(scores.values()) / len(scores)\n",
    "\n",
    "\n",
    "# Mostrar scores:\n",
    "\n",
    "print(\"Modelo\\tExactitud\")\n",
    "print(\"-----------------\")\n",
    "\n",
    "for modelo in scores:\n",
    "    print(modelo, \"\\t\", round(scores[modelo], 1), \"%\")"
   ]
  },
  {
   "cell_type": "markdown",
   "id": "593251ec",
   "metadata": {
    "slideshow": {
     "slide_type": "slide"
    }
   },
   "source": [
    "### 5. Elegir un modelo: ensamblando algoritmos\n",
    "---\n",
    "\n",
    "Cada modelo tiene sus pros y sus contras. A veces, el modelo óptimo no es uno solo de ellos, sino más bien un *ensamble* de modelos, que no es otra cosa que un algoritmo que selecciona de forma secuencial el modelo más acertado en cada paso del proceso de entrenamiento.\n",
    "\n",
    "Existen muchos tipos de algoritmos de ensamble. Nosotros usaremos uno muy simple: un algoritmo de votación."
   ]
  },
  {
   "cell_type": "markdown",
   "id": "257123cc",
   "metadata": {
    "slideshow": {
     "slide_type": "slide"
    }
   },
   "source": [
    "Un algoritmo de votación funciona eligiendo como resultado la predicción más frecuente. Por ejemplo: supongamos que tenemos tres modelos ML ($I$, $II$ y $III$) que hacen las siguientes predicciones:\n",
    "\n",
    "* $I \\longrightarrow A$\n",
    "* $II \\longrightarrow B$\n",
    "* $III \\longrightarrow A$\n",
    "\n",
    "Entonces, el algoritmo de votación elegirá la predicción $A$. Este es un ejemplo de ensamble sencillo.\n",
    "\n",
    "Aplicaremos un ensamble de votación sobre nuestros cinco modelos para ver si es posible obtener un mejor resultado."
   ]
  },
  {
   "cell_type": "code",
   "execution_count": 15,
   "id": "eaa80ad0",
   "metadata": {
    "slideshow": {
     "slide_type": "slide"
    }
   },
   "outputs": [
    {
     "name": "stdout",
     "output_type": "stream",
     "text": [
      "[Voting] ...................... (1 of 5) Processing svc, total=   0.1s\n",
      "[Voting] ...................... (2 of 5) Processing lda, total=   0.0s\n",
      "[Voting] ...................... (3 of 5) Processing sgd, total=   0.1s\n",
      "[Voting] ...................... (4 of 5) Processing mpl, total=   0.9s\n",
      "[Voting] ...................... (5 of 5) Processing dtc, total=   0.0s\n",
      "93.2\n"
     ]
    }
   ],
   "source": [
    "# Importar algoritmo de ensamble:\n",
    "from sklearn.ensemble import VotingClassifier\n",
    "\n",
    "# Lista de modelos a incluir en el ensamble:\n",
    "modelos = [\n",
    "    (\"svc\", SVC(random_state = 0)),\n",
    "    (\"lda\", LinearDiscriminantAnalysis()),\n",
    "    (\"sgd\", SGDClassifier(random_state = 0)),\n",
    "    (\"mpl\", MLPClassifier(random_state = 0)),\n",
    "    (\"dtc\", KNeighborsClassifier())\n",
    "]\n",
    "\n",
    "# Construir y ajustar ensamble:\n",
    "modelo_ens = VotingClassifier(modelos, verbose = True)\n",
    "modelo_ens.fit(training_set['datos'], training_set['etiquetas'])\n",
    "\n",
    "# Ejecutar ensamble sobre el evaluation set y calcular el score:\n",
    "predic_ens = modelo_ens.predict(evaluation_set['datos'])\n",
    "score_ens = accuracy_score(evaluation_set['etiquetas'], predic_ens) * 100\n",
    "\n",
    "# Guardar score:\n",
    "scores[\"ens\"] = score_ens\n",
    "print(score_ens)"
   ]
  },
  {
   "cell_type": "markdown",
   "id": "7e44b646",
   "metadata": {
    "slideshow": {
     "slide_type": "slide"
    }
   },
   "source": [
    "#### *Scores* de los modelos ajustados, incluyendo el ensamble\n",
    "---\n",
    "\n",
    "Volvemos a mostrar los *scores* de los modelos, incluyendo el del ensamble de votación:"
   ]
  },
  {
   "cell_type": "code",
   "execution_count": 16,
   "id": "82fbc538",
   "metadata": {
    "slideshow": {
     "slide_type": "-"
    }
   },
   "outputs": [
    {
     "name": "stdout",
     "output_type": "stream",
     "text": [
      "Modelo\tExactitud\n",
      "-----------------\n",
      "dtc \t 73.6 %\n",
      "svc \t 92.0 %\n",
      "lda \t 89.2 %\n",
      "sgd \t 87.2 %\n",
      "mlp \t 90.4 %\n",
      "(AVG) \t 86.5 %\n",
      "ens \t 93.2 %\n"
     ]
    }
   ],
   "source": [
    "print(\"Modelo\\tExactitud\")\n",
    "print(\"-----------------\")\n",
    "\n",
    "for modelo in scores:\n",
    "    print(modelo, \"\\t\", round(scores[modelo], 1), \"%\")"
   ]
  },
  {
   "cell_type": "markdown",
   "id": "2e348b01",
   "metadata": {},
   "source": [
    "¿Cómo se interpreta este resultado?"
   ]
  },
  {
   "cell_type": "markdown",
   "id": "f22991bc",
   "metadata": {
    "slideshow": {
     "slide_type": "slide"
    }
   },
   "source": [
    "### 6. Conclusión: revisando dónde se equivoca el modelo\n",
    "---"
   ]
  },
  {
   "cell_type": "code",
   "execution_count": 17,
   "id": "77a76f46",
   "metadata": {
    "slideshow": {
     "slide_type": "-"
    }
   },
   "outputs": [
    {
     "name": "stdout",
     "output_type": "stream",
     "text": [
      "17 errores cometidos\n",
      "250 observaciones totales\n",
      "Exactitud del modelo: 93.19999999999999\n"
     ]
    }
   ],
   "source": [
    "# Lista para almacenar los números de las observaciones equivocadas:\n",
    "errores = []\n",
    "\n",
    "# Iteramos sobre las observaciones para encontrar las equivocadas:\n",
    "for obs in range(0, len(predic_ens)):\n",
    "    if predic_ens[obs] != evaluation_set['etiquetas'][obs]:\n",
    "        errores.append(obs)\n",
    "\n",
    "# Número de equivocaciones cometidas por el modelo vs. número total de observaciones:\n",
    "print(len(errores), \"errores cometidos\")\n",
    "print(len(predic_ens), \"observaciones totales\")\n",
    "print(\"Exactitud del modelo:\", str((1 - len(errores) / len(predic_ens)) * 100))"
   ]
  },
  {
   "cell_type": "code",
   "execution_count": 18,
   "id": "1c02952b",
   "metadata": {
    "slideshow": {
     "slide_type": "slide"
    }
   },
   "outputs": [
    {
     "data": {
      "image/png": "[encoded data removed]",
      "text/plain": [
       "<Figure size 432x288 with 20 Axes>"
      ]
     },
     "metadata": {
      "needs_background": "light"
     },
     "output_type": "display_data"
    }
   ],
   "source": [
    "# Rutina para mostrar las imágenes de dígitos clasificados incorrectamente por el modelo:\n",
    "\n",
    "n = 0\n",
    "fig, axs = plt.subplots(2, 10)\n",
    "\n",
    "for (x, y) in [(x, y) for x in range(0, 2) for y in range(0, 10)]:\n",
    "    try:\n",
    "        axs[x, y].imshow(evaluation_set['imagenes'][errores[n]], cmap = \"gray_r\")\n",
    "        axs[x, y].axis(\"off\")\n",
    "        axs[x, y].set_title(str(evaluation_set['etiquetas'][errores[n]]) + \"-\" + str(predic_ens[errores[n]]))\n",
    "        n = n + 1\n",
    "    except:\n",
    "        axs[x, y].axis(\"off\")"
   ]
  },
  {
   "cell_type": "code",
   "execution_count": 19,
   "id": "2df0213b-eb37-4d88-bbde-c4099caa4964",
   "metadata": {},
   "outputs": [
    {
     "data": {
      "text/plain": [
       "['ensamble.joblib']"
      ]
     },
     "execution_count": 19,
     "metadata": {},
     "output_type": "execute_result"
    }
   ],
   "source": [
    "from joblib import dump, load\n",
    "\n",
    "dump(modelo_ens, 'ensamble.joblib')"
   ]
  },
  {
   "cell_type": "markdown",
   "id": "9b52d2fd",
   "metadata": {
    "slideshow": {
     "slide_type": "slide"
    }
   },
   "source": [
    "# <span style=\"color:#5E002B\">Machine learning: una demostración en Python</span>\n",
    "\n",
    "---\n",
    "\n",
    "### Algoritmo de reconocimiento de números manuscritos\n",
    "\n",
    "Rodrigo Leo | Julio 2021\n",
    "\n",
    "rleo@colmex.mx"
   ]
  }
 ],
 "metadata": {
  "celltoolbar": "Slideshow",
  "kernelspec": {
   "display_name": "Python 3 (ipykernel)",
   "language": "python",
   "name": "python3"
  },
  "language_info": {
   "codemirror_mode": {
    "name": "ipython",
    "version": 3
   },
   "file_extension": ".py",
   "mimetype": "text/x-python",
   "name": "python",
   "nbconvert_exporter": "python",
   "pygments_lexer": "ipython3",
   "version": "3.9.6"
  }
 },
 "nbformat": 4,
 "nbformat_minor": 5
}
